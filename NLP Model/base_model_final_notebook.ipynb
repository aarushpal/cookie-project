{
  "nbformat": 4,
  "nbformat_minor": 0,
  "metadata": {
    "colab": {
      "name": "base_model_final (2).ipynb",
      "provenance": [],
      "collapsed_sections": []
    },
    "kernelspec": {
      "display_name": "Python 3",
      "language": "python",
      "name": "python3"
    },
    "language_info": {
      "codemirror_mode": {
        "name": "ipython",
        "version": 3
      },
      "file_extension": ".py",
      "mimetype": "text/x-python",
      "name": "python",
      "nbconvert_exporter": "python",
      "pygments_lexer": "ipython3",
      "version": "3.7.10"
    }
  },
  "cells": [
    {
      "cell_type": "code",
      "metadata": {
        "id": "Ec88x0R0pgLY"
      },
      "source": [
        "#import modules\n",
        "import numpy as np \n",
        "import pandas as pd \n",
        "import nltk\n",
        "import tensorflow as tf\n",
        "import io\n",
        "import json\n",
        "import matplotlib.pyplot as plt\n",
        "from sklearn.model_selection import train_test_split"
      ],
      "execution_count": 18,
      "outputs": []
    },
    {
      "cell_type": "code",
      "metadata": {
        "colab": {
          "base_uri": "https://localhost:8080/"
        },
        "id": "PTxg0hxArJMU",
        "outputId": "aec49b6b-435f-4f58-dc42-981760a3b065"
      },
      "source": [
        "#dowloading stop words from nltk\n",
        "nltk.download('stopwords')"
      ],
      "execution_count": 6,
      "outputs": [
        {
          "output_type": "stream",
          "name": "stdout",
          "text": [
            "[nltk_data] Downloading package stopwords to /root/nltk_data...\n",
            "[nltk_data]   Package stopwords is already up-to-date!\n"
          ]
        },
        {
          "output_type": "execute_result",
          "data": {
            "text/plain": [
              "True"
            ]
          },
          "metadata": {},
          "execution_count": 6
        }
      ]
    },
    {
      "cell_type": "code",
      "metadata": {
        "id": "UYcxzzhHq2tX"
      },
      "source": [
        "#declaring stopwords\n",
        "from nltk.corpus import stopwords\n",
        "stopwords = set(stopwords.words('english'))"
      ],
      "execution_count": 7,
      "outputs": []
    },
    {
      "cell_type": "code",
      "metadata": {
        "colab": {
          "base_uri": "https://localhost:8080/",
          "height": 206
        },
        "id": "QHf0Qvpvp5jL",
        "outputId": "1050d76f-af51-4eac-f559-3d024079e4c4"
      },
      "source": [
        "#reading in the dataset\n",
        "data = pd.read_csv('bbc-news-data.csv', sep = '\\t')\n",
        "data.head()"
      ],
      "execution_count": 8,
      "outputs": [
        {
          "output_type": "execute_result",
          "data": {
            "text/html": [
              "<div>\n",
              "<style scoped>\n",
              "    .dataframe tbody tr th:only-of-type {\n",
              "        vertical-align: middle;\n",
              "    }\n",
              "\n",
              "    .dataframe tbody tr th {\n",
              "        vertical-align: top;\n",
              "    }\n",
              "\n",
              "    .dataframe thead th {\n",
              "        text-align: right;\n",
              "    }\n",
              "</style>\n",
              "<table border=\"1\" class=\"dataframe\">\n",
              "  <thead>\n",
              "    <tr style=\"text-align: right;\">\n",
              "      <th></th>\n",
              "      <th>category</th>\n",
              "      <th>filename</th>\n",
              "      <th>title</th>\n",
              "      <th>content</th>\n",
              "    </tr>\n",
              "  </thead>\n",
              "  <tbody>\n",
              "    <tr>\n",
              "      <th>0</th>\n",
              "      <td>business</td>\n",
              "      <td>001.txt</td>\n",
              "      <td>Ad sales boost Time Warner profit</td>\n",
              "      <td>Quarterly profits at US media giant TimeWarne...</td>\n",
              "    </tr>\n",
              "    <tr>\n",
              "      <th>1</th>\n",
              "      <td>business</td>\n",
              "      <td>002.txt</td>\n",
              "      <td>Dollar gains on Greenspan speech</td>\n",
              "      <td>The dollar has hit its highest level against ...</td>\n",
              "    </tr>\n",
              "    <tr>\n",
              "      <th>2</th>\n",
              "      <td>business</td>\n",
              "      <td>003.txt</td>\n",
              "      <td>Yukos unit buyer faces loan claim</td>\n",
              "      <td>The owners of embattled Russian oil giant Yuk...</td>\n",
              "    </tr>\n",
              "    <tr>\n",
              "      <th>3</th>\n",
              "      <td>business</td>\n",
              "      <td>004.txt</td>\n",
              "      <td>High fuel prices hit BA's profits</td>\n",
              "      <td>British Airways has blamed high fuel prices f...</td>\n",
              "    </tr>\n",
              "    <tr>\n",
              "      <th>4</th>\n",
              "      <td>business</td>\n",
              "      <td>005.txt</td>\n",
              "      <td>Pernod takeover talk lifts Domecq</td>\n",
              "      <td>Shares in UK drinks and food firm Allied Dome...</td>\n",
              "    </tr>\n",
              "  </tbody>\n",
              "</table>\n",
              "</div>"
            ],
            "text/plain": [
              "   category  ...                                            content\n",
              "0  business  ...   Quarterly profits at US media giant TimeWarne...\n",
              "1  business  ...   The dollar has hit its highest level against ...\n",
              "2  business  ...   The owners of embattled Russian oil giant Yuk...\n",
              "3  business  ...   British Airways has blamed high fuel prices f...\n",
              "4  business  ...   Shares in UK drinks and food firm Allied Dome...\n",
              "\n",
              "[5 rows x 4 columns]"
            ]
          },
          "metadata": {},
          "execution_count": 8
        }
      ]
    },
    {
      "cell_type": "code",
      "metadata": {
        "id": "vx_BmWj5rm7Y"
      },
      "source": [
        "sentences = list(data.content)"
      ],
      "execution_count": 9,
      "outputs": []
    },
    {
      "cell_type": "code",
      "metadata": {
        "colab": {
          "base_uri": "https://localhost:8080/"
        },
        "id": "Qpi5boubrtmr",
        "outputId": "f7e3a1df-6a50-4206-dc6d-14db7faf38a9"
      },
      "source": [
        "print(len(sentences))"
      ],
      "execution_count": 10,
      "outputs": [
        {
          "output_type": "stream",
          "name": "stdout",
          "text": [
            "2225\n"
          ]
        }
      ]
    },
    {
      "cell_type": "code",
      "metadata": {
        "id": "I5Z9RcKAvGxe"
      },
      "source": [
        "#removing stopwords from each of the texts\n",
        "for idx in range(len(sentences)):\n",
        "  sentence = sentences[idx]\n",
        "  for word in stopwords:\n",
        "    token = \" \" + word + \" \"\n",
        "    sentence = sentence.replace(token, \" \")\n",
        "    sentence = sentence.replace(\"  \", \" \")\n",
        "  sentences[idx] = sentence"
      ],
      "execution_count": 12,
      "outputs": []
    },
    {
      "cell_type": "code",
      "metadata": {
        "id": "ajLvII6JsxDq"
      },
      "source": [
        "labels = list(data.category)"
      ],
      "execution_count": 13,
      "outputs": []
    },
    {
      "cell_type": "code",
      "metadata": {
        "id": "MzJx-6fzpgLf"
      },
      "source": [
        "from tensorflow.keras.preprocessing.text import Tokenizer\n",
        "from tensorflow.keras.preprocessing.sequence import pad_sequences\n",
        "\n",
        "vocab_size = 30000\n",
        "embedding_dim = 32\n",
        "max_length = 256"
      ],
      "execution_count": 14,
      "outputs": []
    },
    {
      "cell_type": "code",
      "metadata": {
        "id": "jHUOBFIzpgLk"
      },
      "source": [
        "#Function for plotting history of loss and accuracy\n",
        "def plot_history(history, string):\n",
        "    plt.plot(history.history[string])\n",
        "    plt.plot(history.history['val_'+string])\n",
        "    plt.xlabel(\"Epochs\")\n",
        "    plt.ylabel(string)\n",
        "    plt.legend([string, 'val_'+string])\n",
        "    plt.show()\n",
        "    "
      ],
      "execution_count": 17,
      "outputs": []
    },
    {
      "cell_type": "markdown",
      "metadata": {
        "id": "go0RvPsypgLl"
      },
      "source": [
        "Clearly its a bad model, as loss is increasing for validation set and accuracy is constant..it need to improved.."
      ]
    },
    {
      "cell_type": "code",
      "metadata": {
        "id": "XmFUpYEOpgLm"
      },
      "source": [
        "#Splitting dataset in train and dev sets\n",
        "X_train, X_test, y_train, y_test = train_test_split(sentences, labels, train_size = 0.8, random_state = 1, shuffle = True)"
      ],
      "execution_count": 19,
      "outputs": []
    },
    {
      "cell_type": "code",
      "metadata": {
        "id": "zr5glKlcpgLm"
      },
      "source": [
        "#tokenize data\n",
        "#declare tkenizer\n",
        "tokenizer = Tokenizer(num_words = 15000, oov_token='<OOV>')\n",
        "tokenizer.fit_on_texts(X_train)#fit tokernizer on dataset\n",
        "word_index = tokenizer.word_index\n",
        "#Preprocessing train and dev set for inputting to model\n",
        "X_train_seq = tokenizer.texts_to_sequences(X_train)\n",
        "X_train_padded = pad_sequences(X_train_seq, padding='post', maxlen=max_length)\n",
        "X_test_seq = tokenizer.texts_to_sequences(X_test)\n",
        "X_test_padded = pad_sequences(X_test_seq, padding='post', maxlen=max_length)\n"
      ],
      "execution_count": 20,
      "outputs": []
    },
    {
      "cell_type": "code",
      "metadata": {
        "id": "s4u9ut0Tv1LN"
      },
      "source": [
        "#saving tokernizer to tokenizer.json\n",
        "tokenizer_json = tokenizer.to_json()\n",
        "with io.open('tokenizer.json', 'w', encoding='utf-8') as f:\n",
        "    f.write(json.dumps(tokenizer_json, ensure_ascii=False))"
      ],
      "execution_count": 21,
      "outputs": []
    },
    {
      "cell_type": "code",
      "metadata": {
        "id": "H0TUzWwMzqml"
      },
      "source": [
        "#Creating tokens for the labels\n",
        "label_tokenizer = Tokenizer()\n",
        "label_tokenizer.fit_on_texts(labels)\n",
        "label_index = label_tokenizer.word_index"
      ],
      "execution_count": 22,
      "outputs": []
    },
    {
      "cell_type": "code",
      "metadata": {
        "id": "SXKd7kmF0a8E",
        "colab": {
          "base_uri": "https://localhost:8080/"
        },
        "outputId": "0ea8c4f3-905e-4c62-8f8b-2e2bfadf1628"
      },
      "source": [
        "print(label_index)"
      ],
      "execution_count": 23,
      "outputs": [
        {
          "output_type": "stream",
          "name": "stdout",
          "text": [
            "{'sport': 1, 'business': 2, 'politics': 3, 'tech': 4, 'entertainment': 5}\n"
          ]
        }
      ]
    },
    {
      "cell_type": "code",
      "metadata": {
        "id": "IF6cWXii0UGg"
      },
      "source": [
        "#preprocessing Y_train and y_test\n",
        "y_train_label_seq = np.array(label_tokenizer.texts_to_sequences(y_train))\n",
        "y_test_label_seq = np.array(label_tokenizer.texts_to_sequences(y_test))"
      ],
      "execution_count": 24,
      "outputs": []
    },
    {
      "cell_type": "code",
      "metadata": {
        "colab": {
          "base_uri": "https://localhost:8080/"
        },
        "id": "YXZx3aIopgLo",
        "outputId": "a76ef80d-554f-4448-872c-d672c043f9a4"
      },
      "source": [
        "#creating base model and compiling\n",
        "model = tf.keras.Sequential([\n",
        "    tf.keras.layers.Embedding(vocab_size, embedding_dim, input_length=max_length),\n",
        "    tf.keras.layers.Bidirectional(tf.keras.layers.LSTM(32)),\n",
        "    tf.keras.layers.Dense(128, activation='relu'),\n",
        "    tf.keras.layers.Dense(6, activation='softmax')\n",
        "])\n",
        "model.compile(loss='sparse_categorical_crossentropy',optimizer='adam',metrics=['accuracy'])\n",
        "model.summary()\n",
        "#training base model\n",
        "history = model.fit(X_train_padded, y_train_label_seq, epochs=20, validation_data=(X_test_padded, y_test_label_seq), verbose=2)"
      ],
      "execution_count": 33,
      "outputs": [
        {
          "output_type": "stream",
          "name": "stdout",
          "text": [
            "Model: \"sequential_2\"\n",
            "_________________________________________________________________\n",
            "Layer (type)                 Output Shape              Param #   \n",
            "=================================================================\n",
            "embedding_2 (Embedding)      (None, 256, 32)           960000    \n",
            "_________________________________________________________________\n",
            "bidirectional_2 (Bidirection (None, 64)                16640     \n",
            "_________________________________________________________________\n",
            "dense_4 (Dense)              (None, 128)               8320      \n",
            "_________________________________________________________________\n",
            "dense_5 (Dense)              (None, 6)                 774       \n",
            "=================================================================\n",
            "Total params: 985,734\n",
            "Trainable params: 985,734\n",
            "Non-trainable params: 0\n",
            "_________________________________________________________________\n",
            "Epoch 1/20\n",
            "56/56 - 14s - loss: 1.6479 - accuracy: 0.2584 - val_loss: 1.5784 - val_accuracy: 0.3101\n",
            "Epoch 2/20\n",
            "56/56 - 10s - loss: 1.3233 - accuracy: 0.4567 - val_loss: 1.0044 - val_accuracy: 0.6360\n",
            "Epoch 3/20\n",
            "56/56 - 9s - loss: 0.6255 - accuracy: 0.7826 - val_loss: 0.5919 - val_accuracy: 0.8270\n",
            "Epoch 4/20\n",
            "56/56 - 10s - loss: 0.3545 - accuracy: 0.8848 - val_loss: 0.3242 - val_accuracy: 0.9101\n",
            "Epoch 5/20\n",
            "56/56 - 10s - loss: 0.1155 - accuracy: 0.9669 - val_loss: 0.2439 - val_accuracy: 0.9348\n",
            "Epoch 6/20\n",
            "56/56 - 10s - loss: 0.0839 - accuracy: 0.9758 - val_loss: 0.2516 - val_accuracy: 0.9416\n",
            "Epoch 7/20\n",
            "56/56 - 10s - loss: 0.0390 - accuracy: 0.9904 - val_loss: 0.2574 - val_accuracy: 0.9281\n",
            "Epoch 8/20\n",
            "56/56 - 10s - loss: 0.0192 - accuracy: 0.9949 - val_loss: 0.2786 - val_accuracy: 0.9236\n",
            "Epoch 9/20\n",
            "56/56 - 10s - loss: 0.0195 - accuracy: 0.9955 - val_loss: 0.2799 - val_accuracy: 0.9326\n",
            "Epoch 10/20\n",
            "56/56 - 10s - loss: 0.0932 - accuracy: 0.9663 - val_loss: 0.3975 - val_accuracy: 0.8742\n",
            "Epoch 11/20\n",
            "56/56 - 10s - loss: 0.0275 - accuracy: 0.9927 - val_loss: 0.3776 - val_accuracy: 0.8989\n",
            "Epoch 12/20\n",
            "56/56 - 10s - loss: 0.0055 - accuracy: 1.0000 - val_loss: 0.3437 - val_accuracy: 0.9213\n",
            "Epoch 13/20\n",
            "56/56 - 10s - loss: 0.0030 - accuracy: 1.0000 - val_loss: 0.3393 - val_accuracy: 0.9213\n",
            "Epoch 14/20\n",
            "56/56 - 10s - loss: 0.0018 - accuracy: 1.0000 - val_loss: 0.3288 - val_accuracy: 0.9303\n",
            "Epoch 15/20\n",
            "56/56 - 10s - loss: 0.0011 - accuracy: 1.0000 - val_loss: 0.3215 - val_accuracy: 0.9326\n",
            "Epoch 16/20\n",
            "56/56 - 10s - loss: 8.9191e-04 - accuracy: 1.0000 - val_loss: 0.3253 - val_accuracy: 0.9326\n",
            "Epoch 17/20\n",
            "56/56 - 10s - loss: 7.2382e-04 - accuracy: 1.0000 - val_loss: 0.3296 - val_accuracy: 0.9326\n",
            "Epoch 18/20\n",
            "56/56 - 10s - loss: 6.0804e-04 - accuracy: 1.0000 - val_loss: 0.3338 - val_accuracy: 0.9326\n",
            "Epoch 19/20\n",
            "56/56 - 10s - loss: 6.3086e-04 - accuracy: 1.0000 - val_loss: 0.3562 - val_accuracy: 0.9258\n",
            "Epoch 20/20\n",
            "56/56 - 10s - loss: 4.9564e-04 - accuracy: 1.0000 - val_loss: 0.3494 - val_accuracy: 0.9258\n"
          ]
        }
      ]
    },
    {
      "cell_type": "code",
      "metadata": {
        "colab": {
          "base_uri": "https://localhost:8080/",
          "height": 541
        },
        "id": "wPSX29BipgLo",
        "outputId": "48cb66db-b577-41de-f794-98557a546fcf"
      },
      "source": [
        "#plotting loss and accuracy history\n",
        "plot_history(history, 'accuracy')\n",
        "plot_history(history, 'loss')"
      ],
      "execution_count": 34,
      "outputs": [
        {
          "output_type": "display_data",
          "data": {
            "image/png": "[encoded data removed]",
            "text/plain": [
              "<Figure size 432x288 with 1 Axes>"
            ]
          },
          "metadata": {
            "needs_background": "light"
          }
        },
        {
          "output_type": "display_data",
          "data": {
            "image/png": "[encoded data removed]",
            "text/plain": [
              "<Figure size 432x288 with 1 Axes>"
            ]
          },
          "metadata": {
            "needs_background": "light"
          }
        }
      ]
    },
    {
      "cell_type": "code",
      "metadata": {
        "colab": {
          "base_uri": "https://localhost:8080/"
        },
        "id": "kyJrUPJfpgLo",
        "outputId": "be101c6c-c39b-4ba0-8e72-60b0909b1db4"
      },
      "source": [
        "#Predictions on dev set\n",
        "labels_pred = np.argmax(model.predict(X_test_padded),axis = -1)\n",
        "print(labels_pred[0:20])\n",
        "print(y_test_label_seq[0:20].reshape( 1, -1))"
      ],
      "execution_count": 35,
      "outputs": [
        {
          "output_type": "stream",
          "name": "stdout",
          "text": [
            "[1 1 2 1 1 1 1 3 5 5 3 2 4 5 1 4 2 1 3 3]\n",
            "[[1 1 2 1 1 1 1 3 5 5 3 2 4 5 1 4 2 1 3 3]]\n"
          ]
        }
      ]
    },
    {
      "cell_type": "code",
      "metadata": {
        "colab": {
          "base_uri": "https://localhost:8080/"
        },
        "id": "oJ3uACp6pgLp",
        "outputId": "81ba11a9-53a2-4026-dd41-2e1db264d41e"
      },
      "source": [
        "#accuracy scores\n",
        "from sklearn.metrics import accuracy_score\n",
        "print(\"Base model accuracy on dev set: \")\n",
        "print(accuracy_score(labels_pred,y_test_label_seq))"
      ],
      "execution_count": 37,
      "outputs": [
        {
          "output_type": "stream",
          "name": "stdout",
          "text": [
            "Base model accuracy on dev set: \n",
            "0.9258426966292135\n"
          ]
        }
      ]
    },
    {
      "cell_type": "code",
      "metadata": {
        "id": "lD9CYbHF9lcb"
      },
      "source": [
        "#declaring submodel to save\n",
        "submodel = tf.keras.Model(inputs =  model.input, outputs = model.get_layer(\"dense\").output)\n",
        "submodel.summary()"
      ],
      "execution_count": null,
      "outputs": []
    },
    {
      "cell_type": "code",
      "metadata": {
        "id": "Z6VhNP9v_Z0H"
      },
      "source": [
        "#compiling submodel\n",
        "submodel.compile(loss='sparse_categorical_crossentropy',optimizer='adam',metrics=['accuracy'])"
      ],
      "execution_count": 39,
      "outputs": []
    },
    {
      "cell_type": "code",
      "metadata": {
        "id": "Rld8gyXn-5cz"
      },
      "source": [
        "#saving submodel as submodel.h5\n",
        "submodel.save('submodel.h5')"
      ],
      "execution_count": 40,
      "outputs": []
    }
  ]
}