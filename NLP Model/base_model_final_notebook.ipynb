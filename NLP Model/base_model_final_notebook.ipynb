{
  "nbformat": 4,
  "nbformat_minor": 0,
  "metadata": {
    "colab": {
      "name": "trying out different models",
      "provenance": [],
      "collapsed_sections": []
    },
    "kernelspec": {
      "display_name": "Python 3",
      "language": "python",
      "name": "python3"
    },
    "language_info": {
      "codemirror_mode": {
        "name": "ipython",
        "version": 3
      },
      "file_extension": ".py",
      "mimetype": "text/x-python",
      "name": "python",
      "nbconvert_exporter": "python",
      "pygments_lexer": "ipython3",
      "version": "3.7.10"
    }
  },
  "cells": [
    {
      "cell_type": "code",
      "metadata": {
        "id": "Ec88x0R0pgLY"
      },
      "source": [
        "#import modules\n",
        "import numpy as np \n",
        "import pandas as pd \n",
        "import nltk\n",
        "import tensorflow as tf\n",
        "import io\n",
        "import json\n",
        "import matplotlib.pyplot as plt\n",
        "from sklearn.model_selection import train_test_split"
      ],
      "execution_count": 1,
      "outputs": []
    },
    {
      "cell_type": "code",
      "metadata": {
        "colab": {
          "base_uri": "https://localhost:8080/"
        },
        "id": "PTxg0hxArJMU",
        "outputId": "0a0b10cf-5e10-409c-c8cb-5874427e392b"
      },
      "source": [
        "#dowloading stop words from nltk\n",
        "nltk.download('stopwords')"
      ],
      "execution_count": 2,
      "outputs": [
        {
          "output_type": "stream",
          "name": "stdout",
          "text": [
            "[nltk_data] Downloading package stopwords to /root/nltk_data...\n",
            "[nltk_data]   Package stopwords is already up-to-date!\n"
          ]
        },
        {
          "output_type": "execute_result",
          "data": {
            "text/plain": [
              "True"
            ]
          },
          "metadata": {},
          "execution_count": 2
        }
      ]
    },
    {
      "cell_type": "code",
      "metadata": {
        "id": "UYcxzzhHq2tX"
      },
      "source": [
        "#declaring stopwords\n",
        "from nltk.corpus import stopwords\n",
        "stopwords = set(stopwords.words('english'))"
      ],
      "execution_count": 3,
      "outputs": []
    },
    {
      "cell_type": "code",
      "metadata": {
        "colab": {
          "base_uri": "https://localhost:8080/",
          "height": 206
        },
        "id": "QHf0Qvpvp5jL",
        "outputId": "46d3b2da-fc08-4999-996d-0731226b1b05"
      },
      "source": [
        "#reading in the dataset\n",
        "data = pd.read_csv('bbc-news-data.csv', sep = '\\t')\n",
        "data.head()"
      ],
      "execution_count": 4,
      "outputs": [
        {
          "output_type": "execute_result",
          "data": {
            "text/html": [
              "<div>\n",
              "<style scoped>\n",
              "    .dataframe tbody tr th:only-of-type {\n",
              "        vertical-align: middle;\n",
              "    }\n",
              "\n",
              "    .dataframe tbody tr th {\n",
              "        vertical-align: top;\n",
              "    }\n",
              "\n",
              "    .dataframe thead th {\n",
              "        text-align: right;\n",
              "    }\n",
              "</style>\n",
              "<table border=\"1\" class=\"dataframe\">\n",
              "  <thead>\n",
              "    <tr style=\"text-align: right;\">\n",
              "      <th></th>\n",
              "      <th>category</th>\n",
              "      <th>filename</th>\n",
              "      <th>title</th>\n",
              "      <th>content</th>\n",
              "    </tr>\n",
              "  </thead>\n",
              "  <tbody>\n",
              "    <tr>\n",
              "      <th>0</th>\n",
              "      <td>business</td>\n",
              "      <td>001.txt</td>\n",
              "      <td>Ad sales boost Time Warner profit</td>\n",
              "      <td>Quarterly profits at US media giant TimeWarne...</td>\n",
              "    </tr>\n",
              "    <tr>\n",
              "      <th>1</th>\n",
              "      <td>business</td>\n",
              "      <td>002.txt</td>\n",
              "      <td>Dollar gains on Greenspan speech</td>\n",
              "      <td>The dollar has hit its highest level against ...</td>\n",
              "    </tr>\n",
              "    <tr>\n",
              "      <th>2</th>\n",
              "      <td>business</td>\n",
              "      <td>003.txt</td>\n",
              "      <td>Yukos unit buyer faces loan claim</td>\n",
              "      <td>The owners of embattled Russian oil giant Yuk...</td>\n",
              "    </tr>\n",
              "    <tr>\n",
              "      <th>3</th>\n",
              "      <td>business</td>\n",
              "      <td>004.txt</td>\n",
              "      <td>High fuel prices hit BA's profits</td>\n",
              "      <td>British Airways has blamed high fuel prices f...</td>\n",
              "    </tr>\n",
              "    <tr>\n",
              "      <th>4</th>\n",
              "      <td>business</td>\n",
              "      <td>005.txt</td>\n",
              "      <td>Pernod takeover talk lifts Domecq</td>\n",
              "      <td>Shares in UK drinks and food firm Allied Dome...</td>\n",
              "    </tr>\n",
              "  </tbody>\n",
              "</table>\n",
              "</div>"
            ],
            "text/plain": [
              "   category  ...                                            content\n",
              "0  business  ...   Quarterly profits at US media giant TimeWarne...\n",
              "1  business  ...   The dollar has hit its highest level against ...\n",
              "2  business  ...   The owners of embattled Russian oil giant Yuk...\n",
              "3  business  ...   British Airways has blamed high fuel prices f...\n",
              "4  business  ...   Shares in UK drinks and food firm Allied Dome...\n",
              "\n",
              "[5 rows x 4 columns]"
            ]
          },
          "metadata": {},
          "execution_count": 4
        }
      ]
    },
    {
      "cell_type": "code",
      "metadata": {
        "id": "vx_BmWj5rm7Y"
      },
      "source": [
        "sentences = list(data.content)"
      ],
      "execution_count": 8,
      "outputs": []
    },
    {
      "cell_type": "code",
      "metadata": {
        "colab": {
          "base_uri": "https://localhost:8080/"
        },
        "id": "Qpi5boubrtmr",
        "outputId": "d9286889-648f-40eb-ccfd-d512fd85c374"
      },
      "source": [
        "print(len(sentences))"
      ],
      "execution_count": 9,
      "outputs": [
        {
          "output_type": "stream",
          "name": "stdout",
          "text": [
            "2225\n"
          ]
        }
      ]
    },
    {
      "cell_type": "code",
      "metadata": {
        "id": "I5Z9RcKAvGxe"
      },
      "source": [
        "#removing stopwords from each of the texts\n",
        "for idx in range(len(sentences)):\n",
        "  sentence = sentences[idx]\n",
        "  for word in stopwords:\n",
        "    token = \" \" + word + \" \"\n",
        "    sentence = sentence.replace(token, \" \")\n",
        "    sentence = sentence.replace(\"  \", \" \")\n",
        "  sentences[idx] = sentence"
      ],
      "execution_count": 10,
      "outputs": []
    },
    {
      "cell_type": "code",
      "metadata": {
        "id": "ajLvII6JsxDq"
      },
      "source": [
        "labels = list(data.category)"
      ],
      "execution_count": 11,
      "outputs": []
    },
    {
      "cell_type": "code",
      "metadata": {
        "id": "MzJx-6fzpgLf"
      },
      "source": [
        "from tensorflow.keras.preprocessing.text import Tokenizer\n",
        "from tensorflow.keras.preprocessing.sequence import pad_sequences\n",
        "\n",
        "vocab_size = 30000\n",
        "embedding_dim = 32\n",
        "max_length = 128"
      ],
      "execution_count": 12,
      "outputs": []
    },
    {
      "cell_type": "code",
      "metadata": {
        "id": "jHUOBFIzpgLk"
      },
      "source": [
        "#Function for plotting history of loss and accuracy\n",
        "def plot_history(history, string):\n",
        "    plt.plot(history.history[string])\n",
        "    plt.plot(history.history['val_'+string])\n",
        "    plt.xlabel(\"Epochs\")\n",
        "    plt.ylabel(string)\n",
        "    plt.legend([string, 'val_'+string])\n",
        "    plt.show()\n",
        "    "
      ],
      "execution_count": 13,
      "outputs": []
    },
    {
      "cell_type": "code",
      "metadata": {
        "id": "XmFUpYEOpgLm"
      },
      "source": [
        "#Splitting dataset in train and dev sets\n",
        "X_train, X_test, y_train, y_test = train_test_split(sentences, labels, train_size = 0.8, random_state = 1, shuffle = True)"
      ],
      "execution_count": 25,
      "outputs": []
    },
    {
      "cell_type": "code",
      "metadata": {
        "id": "zr5glKlcpgLm"
      },
      "source": [
        "#tokenize data\n",
        "#declare tkenizer\n",
        "tokenizer = Tokenizer(num_words = 15000, oov_token='<OOV>')\n",
        "tokenizer.fit_on_texts(X_train)#fit tokernizer on dataset\n",
        "word_index = tokenizer.word_index\n",
        "#Preprocessing train and dev set for inputting to model\n",
        "X_train_seq = tokenizer.texts_to_sequences(X_train)\n",
        "X_train_padded = pad_sequences(X_train_seq, padding='post', maxlen=max_length)\n",
        "X_test_seq = tokenizer.texts_to_sequences(X_test)\n",
        "X_test_padded = pad_sequences(X_test_seq, padding='post', maxlen=max_length)\n"
      ],
      "execution_count": 26,
      "outputs": []
    },
    {
      "cell_type": "code",
      "metadata": {
        "id": "s4u9ut0Tv1LN"
      },
      "source": [
        "#saving tokernizer to tokenizer.json\n",
        "tokenizer_json = tokenizer.to_json()\n",
        "with io.open('tokenizer.json', 'w', encoding='utf-8') as f:\n",
        "    f.write(json.dumps(tokenizer_json, ensure_ascii=False))"
      ],
      "execution_count": 16,
      "outputs": []
    },
    {
      "cell_type": "code",
      "metadata": {
        "id": "H0TUzWwMzqml"
      },
      "source": [
        "#Creating tokens for the labels\n",
        "label_tokenizer = Tokenizer()\n",
        "label_tokenizer.fit_on_texts(labels)\n",
        "label_index = label_tokenizer.word_index"
      ],
      "execution_count": 27,
      "outputs": []
    },
    {
      "cell_type": "code",
      "metadata": {
        "id": "SXKd7kmF0a8E",
        "colab": {
          "base_uri": "https://localhost:8080/"
        },
        "outputId": "cbfcb226-4ca4-4c51-ca1b-f56393873f70"
      },
      "source": [
        "print(label_index)"
      ],
      "execution_count": 28,
      "outputs": [
        {
          "output_type": "stream",
          "name": "stdout",
          "text": [
            "{'sport': 1, 'business': 2, 'politics': 3, 'tech': 4, 'entertainment': 5}\n"
          ]
        }
      ]
    },
    {
      "cell_type": "code",
      "metadata": {
        "id": "IF6cWXii0UGg"
      },
      "source": [
        "#preprocessing Y_train and y_test\n",
        "y_train_label_seq = np.array(label_tokenizer.texts_to_sequences(y_train))\n",
        "y_test_label_seq = np.array(label_tokenizer.texts_to_sequences(y_test))"
      ],
      "execution_count": 29,
      "outputs": []
    },
    {
      "cell_type": "code",
      "metadata": {
        "colab": {
          "base_uri": "https://localhost:8080/"
        },
        "id": "YXZx3aIopgLo",
        "outputId": "acf7b353-e236-46d2-e514-ae2afee71ada"
      },
      "source": [
        "#creating base model and compiling\n",
        "model = tf.keras.Sequential([\n",
        "    tf.keras.layers.Embedding(vocab_size, embedding_dim, input_length=max_length),\n",
        "    tf.keras.layers.Bidirectional(tf.keras.layers.LSTM(32)),\n",
        "    tf.keras.layers.Dense(64, activation='relu'),\n",
        "    tf.keras.layers.Dense(32, activation = 'relu'),\n",
        "    tf.keras.layers.Dense(6, activation='softmax')\n",
        "])\n",
        "model.compile(loss='sparse_categorical_crossentropy',optimizer='adam',metrics=['accuracy'])\n",
        "model.summary()\n",
        "#training base model\n",
        "history = model.fit(X_train_padded, y_train_label_seq, epochs=15, validation_data=(X_test_padded, y_test_label_seq), verbose=2)"
      ],
      "execution_count": 30,
      "outputs": [
        {
          "output_type": "stream",
          "name": "stdout",
          "text": [
            "Model: \"sequential_2\"\n",
            "_________________________________________________________________\n",
            "Layer (type)                 Output Shape              Param #   \n",
            "=================================================================\n",
            "embedding_2 (Embedding)      (None, 128, 32)           960000    \n",
            "_________________________________________________________________\n",
            "bidirectional_2 (Bidirection (None, 64)                16640     \n",
            "_________________________________________________________________\n",
            "dense_6 (Dense)              (None, 64)                4160      \n",
            "_________________________________________________________________\n",
            "dense_7 (Dense)              (None, 32)                2080      \n",
            "_________________________________________________________________\n",
            "dense_8 (Dense)              (None, 6)                 198       \n",
            "=================================================================\n",
            "Total params: 983,078\n",
            "Trainable params: 983,078\n",
            "Non-trainable params: 0\n",
            "_________________________________________________________________\n",
            "Epoch 1/15\n",
            "56/56 - 10s - loss: 1.6173 - accuracy: 0.3034 - val_loss: 1.2032 - val_accuracy: 0.3933\n",
            "Epoch 2/15\n",
            "56/56 - 5s - loss: 1.0024 - accuracy: 0.5449 - val_loss: 0.9259 - val_accuracy: 0.5708\n",
            "Epoch 3/15\n",
            "56/56 - 5s - loss: 0.6985 - accuracy: 0.6753 - val_loss: 0.7774 - val_accuracy: 0.6584\n",
            "Epoch 4/15\n",
            "56/56 - 5s - loss: 0.4788 - accuracy: 0.8180 - val_loss: 0.5587 - val_accuracy: 0.7933\n",
            "Epoch 5/15\n",
            "56/56 - 5s - loss: 0.2343 - accuracy: 0.9371 - val_loss: 0.5437 - val_accuracy: 0.8494\n",
            "Epoch 6/15\n",
            "56/56 - 5s - loss: 0.1616 - accuracy: 0.9640 - val_loss: 0.4645 - val_accuracy: 0.8966\n",
            "Epoch 7/15\n",
            "56/56 - 5s - loss: 0.0595 - accuracy: 0.9882 - val_loss: 0.5372 - val_accuracy: 0.8607\n",
            "Epoch 8/15\n",
            "56/56 - 5s - loss: 0.0361 - accuracy: 0.9944 - val_loss: 0.5425 - val_accuracy: 0.9011\n",
            "Epoch 9/15\n",
            "56/56 - 5s - loss: 0.0321 - accuracy: 0.9949 - val_loss: 0.8733 - val_accuracy: 0.8899\n",
            "Epoch 10/15\n",
            "56/56 - 5s - loss: 0.0622 - accuracy: 0.9815 - val_loss: 0.4165 - val_accuracy: 0.9146\n",
            "Epoch 11/15\n",
            "56/56 - 5s - loss: 0.0115 - accuracy: 0.9983 - val_loss: 0.4565 - val_accuracy: 0.9169\n",
            "Epoch 12/15\n",
            "56/56 - 5s - loss: 0.0090 - accuracy: 0.9989 - val_loss: 0.4726 - val_accuracy: 0.9124\n",
            "Epoch 13/15\n",
            "56/56 - 5s - loss: 0.0076 - accuracy: 0.9989 - val_loss: 0.4963 - val_accuracy: 0.9124\n",
            "Epoch 14/15\n",
            "56/56 - 5s - loss: 0.0139 - accuracy: 0.9978 - val_loss: 0.4498 - val_accuracy: 0.9169\n",
            "Epoch 15/15\n",
            "56/56 - 5s - loss: 0.0069 - accuracy: 0.9989 - val_loss: 0.4706 - val_accuracy: 0.9169\n"
          ]
        }
      ]
    },
    {
      "cell_type": "code",
      "metadata": {
        "colab": {
          "base_uri": "https://localhost:8080/",
          "height": 541
        },
        "id": "wPSX29BipgLo",
        "outputId": "159d4f5a-3d4c-41f2-e636-3429653f53dd"
      },
      "source": [
        "#plotting loss and accuracy history\n",
        "plot_history(history, 'accuracy')\n",
        "plot_history(history, 'loss')"
      ],
      "execution_count": 31,
      "outputs": [
        {
          "output_type": "display_data",
          "data": {
            "image/png": "[encoded data removed]",
            "text/plain": [
              "<Figure size 432x288 with 1 Axes>"
            ]
          },
          "metadata": {
            "needs_background": "light"
          }
        },
        {
          "output_type": "display_data",
          "data": {
            "image/png": "[encoded data removed]",
            "text/plain": [
              "<Figure size 432x288 with 1 Axes>"
            ]
          },
          "metadata": {
            "needs_background": "light"
          }
        }
      ]
    },
    {
      "cell_type": "code",
      "metadata": {
        "colab": {
          "base_uri": "https://localhost:8080/"
        },
        "id": "kyJrUPJfpgLo",
        "outputId": "8c30c172-e38a-4412-af63-18a31aab8913"
      },
      "source": [
        "#Predictions on dev set\n",
        "labels_pred = np.argmax(model.predict(X_test_padded),axis = -1)\n",
        "print(labels_pred[0:20])\n",
        "print(y_test_label_seq[0:20].reshape( 1, -1))"
      ],
      "execution_count": 32,
      "outputs": [
        {
          "output_type": "stream",
          "name": "stdout",
          "text": [
            "[1 1 2 1 1 1 1 3 5 5 3 2 4 5 1 4 2 1 3 3]\n",
            "[[1 1 2 1 1 1 1 3 5 5 3 2 4 5 1 4 2 1 3 3]]\n"
          ]
        }
      ]
    },
    {
      "cell_type": "code",
      "metadata": {
        "colab": {
          "base_uri": "https://localhost:8080/"
        },
        "id": "oJ3uACp6pgLp",
        "outputId": "0eae0494-1a6b-4127-d376-cc631b759a1b"
      },
      "source": [
        "#accuracy scores\n",
        "from sklearn.metrics import accuracy_score\n",
        "print(\"Base model accuracy on dev set: \")\n",
        "print(accuracy_score(labels_pred,y_test_label_seq))"
      ],
      "execution_count": 33,
      "outputs": [
        {
          "output_type": "stream",
          "name": "stdout",
          "text": [
            "Base model accuracy on dev set: \n",
            "0.9168539325842696\n"
          ]
        }
      ]
    },
    {
      "cell_type": "code",
      "metadata": {
        "id": "lD9CYbHF9lcb",
        "colab": {
          "base_uri": "https://localhost:8080/"
        },
        "outputId": "4ede32b8-50a1-4cc9-9f4b-69df96fe53b7"
      },
      "source": [
        "#declaring submodel to save\n",
        "submodel = tf.keras.Model(inputs =  model.input, outputs = model.get_layer(\"dense_7\").output)\n",
        "submodel.summary()"
      ],
      "execution_count": 34,
      "outputs": [
        {
          "output_type": "stream",
          "name": "stdout",
          "text": [
            "Model: \"model\"\n",
            "_________________________________________________________________\n",
            "Layer (type)                 Output Shape              Param #   \n",
            "=================================================================\n",
            "embedding_2_input (InputLaye [(None, 128)]             0         \n",
            "_________________________________________________________________\n",
            "embedding_2 (Embedding)      (None, 128, 32)           960000    \n",
            "_________________________________________________________________\n",
            "bidirectional_2 (Bidirection (None, 64)                16640     \n",
            "_________________________________________________________________\n",
            "dense_6 (Dense)              (None, 64)                4160      \n",
            "_________________________________________________________________\n",
            "dense_7 (Dense)              (None, 32)                2080      \n",
            "=================================================================\n",
            "Total params: 982,880\n",
            "Trainable params: 982,880\n",
            "Non-trainable params: 0\n",
            "_________________________________________________________________\n"
          ]
        }
      ]
    },
    {
      "cell_type": "code",
      "metadata": {
        "id": "Z6VhNP9v_Z0H"
      },
      "source": [
        "#compiling submodel\n",
        "submodel.compile(loss='sparse_categorical_crossentropy',optimizer='adam',metrics=['accuracy'])"
      ],
      "execution_count": 35,
      "outputs": []
    },
    {
      "cell_type": "code",
      "metadata": {
        "id": "Rld8gyXn-5cz"
      },
      "source": [
        "#saving submodel as submodel.h5\n",
        "submodel.save('submodel.h5')"
      ],
      "execution_count": 38,
      "outputs": []
    }
  ]
}