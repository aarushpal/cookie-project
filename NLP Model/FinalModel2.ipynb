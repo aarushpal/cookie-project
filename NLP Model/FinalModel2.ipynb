{
  "nbformat": 4,
  "nbformat_minor": 0,
  "metadata": {
    "colab": {
      "name": "FinalModel2.ipynb",
      "provenance": [],
      "collapsed_sections": []
    },
    "kernelspec": {
      "name": "python3",
      "display_name": "Python 3"
    },
    "language_info": {
      "name": "python"
    }
  },
  "cells": [
    {
      "cell_type": "code",
      "metadata": {
        "id": "H72qapV7AKii"
      },
      "source": [
        "#importing modules\n",
        "import numpy as np \n",
        "import pandas as pd \n",
        "import nltk\n",
        "import tensorflow as tf\n",
        "import json\n",
        "import matplotlib.pyplot as plt\n",
        "from sklearn.model_selection import train_test_split"
      ],
      "execution_count": 43,
      "outputs": []
    },
    {
      "cell_type": "code",
      "metadata": {
        "colab": {
          "base_uri": "https://localhost:8080/"
        },
        "id": "Ix7hG_KPAiRS",
        "outputId": "fb59cfad-3357-4cfc-c572-fddcac3dabad"
      },
      "source": [
        "#downloading stopwords\n",
        "# stopwords include \"the\", \"in\", \"a\", and so on\n",
        "nltk.download('stopwords')"
      ],
      "execution_count": 44,
      "outputs": [
        {
          "output_type": "stream",
          "name": "stdout",
          "text": [
            "[nltk_data] Downloading package stopwords to /root/nltk_data...\n",
            "[nltk_data]   Package stopwords is already up-to-date!\n"
          ]
        },
        {
          "output_type": "execute_result",
          "data": {
            "text/plain": [
              "True"
            ]
          },
          "metadata": {},
          "execution_count": 44
        }
      ]
    },
    {
      "cell_type": "code",
      "metadata": {
        "id": "rvQv2YqeAtPY"
      },
      "source": [
        "from nltk.corpus import stopwords\n",
        "stopwords = set(stopwords.words('english'))"
      ],
      "execution_count": 45,
      "outputs": []
    },
    {
      "cell_type": "code",
      "metadata": {
        "colab": {
          "base_uri": "https://localhost:8080/",
          "height": 206
        },
        "id": "Jt_2tmjrAwem",
        "outputId": "df12d1a8-c6eb-4732-cb99-623d0653b57c"
      },
      "source": [
        "data = pd.read_csv('FinalDataEdit.csv')\n",
        "data.head()"
      ],
      "execution_count": 46,
      "outputs": [
        {
          "output_type": "execute_result",
          "data": {
            "text/html": [
              "<div>\n",
              "<style scoped>\n",
              "    .dataframe tbody tr th:only-of-type {\n",
              "        vertical-align: middle;\n",
              "    }\n",
              "\n",
              "    .dataframe tbody tr th {\n",
              "        vertical-align: top;\n",
              "    }\n",
              "\n",
              "    .dataframe thead th {\n",
              "        text-align: right;\n",
              "    }\n",
              "</style>\n",
              "<table border=\"1\" class=\"dataframe\">\n",
              "  <thead>\n",
              "    <tr style=\"text-align: right;\">\n",
              "      <th></th>\n",
              "      <th>Action_needed</th>\n",
              "      <th>Subcategory</th>\n",
              "      <th>Sentence</th>\n",
              "    </tr>\n",
              "  </thead>\n",
              "  <tbody>\n",
              "    <tr>\n",
              "      <th>0</th>\n",
              "      <td>1</td>\n",
              "      <td>None</td>\n",
              "      <td>Illuminate the None today.</td>\n",
              "    </tr>\n",
              "    <tr>\n",
              "      <th>1</th>\n",
              "      <td>1</td>\n",
              "      <td>None</td>\n",
              "      <td>Illuminate the None tomorrow.</td>\n",
              "    </tr>\n",
              "    <tr>\n",
              "      <th>2</th>\n",
              "      <td>1</td>\n",
              "      <td>None</td>\n",
              "      <td>Turn on the light in the None in 10 hours.</td>\n",
              "    </tr>\n",
              "    <tr>\n",
              "      <th>3</th>\n",
              "      <td>1</td>\n",
              "      <td>None</td>\n",
              "      <td>Turn on the light in the None in 1 day.</td>\n",
              "    </tr>\n",
              "    <tr>\n",
              "      <th>4</th>\n",
              "      <td>1</td>\n",
              "      <td>None</td>\n",
              "      <td>Illuminate the dining room today.</td>\n",
              "    </tr>\n",
              "  </tbody>\n",
              "</table>\n",
              "</div>"
            ],
            "text/plain": [
              "   Action_needed Subcategory                                    Sentence\n",
              "0              1        None                  Illuminate the None today.\n",
              "1              1        None               Illuminate the None tomorrow.\n",
              "2              1        None  Turn on the light in the None in 10 hours.\n",
              "3              1        None     Turn on the light in the None in 1 day.\n",
              "4              1        None           Illuminate the dining room today."
            ]
          },
          "metadata": {},
          "execution_count": 46
        }
      ]
    },
    {
      "cell_type": "code",
      "metadata": {
        "colab": {
          "base_uri": "https://localhost:8080/"
        },
        "id": "lcgiXFSFBcuK",
        "outputId": "6f85db90-33d5-4197-fc69-4fb026c9b042"
      },
      "source": [
        "sentences = list(data.Sentence)\n",
        "print(len(sentences))"
      ],
      "execution_count": 47,
      "outputs": [
        {
          "output_type": "stream",
          "name": "stdout",
          "text": [
            "849\n"
          ]
        }
      ]
    },
    {
      "cell_type": "code",
      "metadata": {
        "colab": {
          "base_uri": "https://localhost:8080/"
        },
        "id": "zUtQRBqOxStC",
        "outputId": "8af88d57-de7a-478d-887c-6ad8240c7045"
      },
      "source": [
        "print(type(sentences[0]))"
      ],
      "execution_count": 48,
      "outputs": [
        {
          "output_type": "stream",
          "name": "stdout",
          "text": [
            "<class 'str'>\n"
          ]
        }
      ]
    },
    {
      "cell_type": "code",
      "metadata": {
        "colab": {
          "base_uri": "https://localhost:8080/"
        },
        "id": "lxdn_KveBxJZ",
        "outputId": "fd7d5aab-5591-4a7c-a47f-2411241ecc3b"
      },
      "source": [
        "labels = list(data.Subcategory)\n",
        "print(len(labels))"
      ],
      "execution_count": 49,
      "outputs": [
        {
          "output_type": "stream",
          "name": "stdout",
          "text": [
            "849\n"
          ]
        }
      ]
    },
    {
      "cell_type": "code",
      "metadata": {
        "colab": {
          "base_uri": "https://localhost:8080/"
        },
        "id": "hJyxiLN3z3C4",
        "outputId": "5d172964-052f-484a-8265-da04fda741be"
      },
      "source": [
        "print(type(labels[0]))"
      ],
      "execution_count": 50,
      "outputs": [
        {
          "output_type": "stream",
          "name": "stdout",
          "text": [
            "<class 'str'>\n"
          ]
        }
      ]
    },
    {
      "cell_type": "code",
      "metadata": {
        "colab": {
          "base_uri": "https://localhost:8080/"
        },
        "id": "9waOIPzmuxo9",
        "outputId": "13b29c4e-38b0-4879-cf54-23f9d172b348"
      },
      "source": [
        "data['Subcategory'].isnull().values.any()"
      ],
      "execution_count": 51,
      "outputs": [
        {
          "output_type": "execute_result",
          "data": {
            "text/plain": [
              "False"
            ]
          },
          "metadata": {},
          "execution_count": 51
        }
      ]
    },
    {
      "cell_type": "code",
      "metadata": {
        "colab": {
          "base_uri": "https://localhost:8080/"
        },
        "id": "4i5aNqBsDT3y",
        "outputId": "e893f662-e790-4b82-d58e-67af251b4c8a"
      },
      "source": [
        "print(data.Subcategory.unique())"
      ],
      "execution_count": 52,
      "outputs": [
        {
          "output_type": "stream",
          "name": "stdout",
          "text": [
            "['None' 'Google' 'Weather' 'Time' 'Date' 'News' 'Launch' 'Whatsapp']\n"
          ]
        }
      ]
    },
    {
      "cell_type": "code",
      "metadata": {
        "id": "S7V0cO8qCT5_"
      },
      "source": [
        "#removing all stopwords from all sentences/ commands in the dataset\n",
        "for idx in range(len(sentences)):\n",
        "  sentence = sentences[idx]\n",
        "  for word in stopwords:\n",
        "    token = \" \" + word + \" \"\n",
        "    sentence = sentence.replace(token, \" \")\n",
        "    sentence = sentence.replace(\"  \", \" \")\n",
        "  sentences[idx] = sentence"
      ],
      "execution_count": 53,
      "outputs": []
    },
    {
      "cell_type": "code",
      "metadata": {
        "id": "6GJomtZ0B4Qc"
      },
      "source": [
        "from tensorflow.keras.preprocessing.text import Tokenizer\n",
        "from tensorflow.keras.preprocessing.sequence import pad_sequences\n",
        "\n",
        "vocab_size = 30000\n",
        "embedding_dim = 32\n",
        "max_length = 128"
      ],
      "execution_count": 54,
      "outputs": []
    },
    {
      "cell_type": "code",
      "metadata": {
        "id": "1-AKtENVB76Q"
      },
      "source": [
        "#defining function for plotting hisytory of loss and accuracy\n",
        "def plot_history(history, string):\n",
        "    plt.plot(history.history[string])\n",
        "    plt.plot(history.history['val_'+string])\n",
        "    plt.xlabel(\"Epochs\")\n",
        "    plt.ylabel(string)\n",
        "    plt.legend([string, 'validation_'+string])\n",
        "    plt.show()\n",
        "    "
      ],
      "execution_count": 55,
      "outputs": []
    },
    {
      "cell_type": "code",
      "metadata": {
        "id": "NW89CNCZB9QY"
      },
      "source": [
        "#splitting the dataset into train and dev/validation sets\n",
        "X_train, X_test, y_train, y_test = train_test_split(sentences, labels, train_size = 0.8, random_state = 1, shuffle = True)"
      ],
      "execution_count": 56,
      "outputs": []
    },
    {
      "cell_type": "code",
      "metadata": {
        "id": "9x57O_dAxjkh"
      },
      "source": [
        "#loading pre defined tokenizer from tokenizer.json\n",
        "from tensorflow.keras.preprocessing.text import tokenizer_from_json\n",
        "with open('tokenizer.json') as f:\n",
        "    tokens_json = json.load(f)\n",
        "    tokenizer = tokenizer_from_json(tokens_json)"
      ],
      "execution_count": 57,
      "outputs": []
    },
    {
      "cell_type": "code",
      "metadata": {
        "colab": {
          "base_uri": "https://localhost:8080/"
        },
        "id": "D-sSb4Ixxu10",
        "outputId": "e2dca2df-9034-4ed9-e5b6-a2828de8a540"
      },
      "source": [
        "word_index = tokenizer.word_index\n",
        "print(len(word_index))"
      ],
      "execution_count": 58,
      "outputs": [
        {
          "output_type": "stream",
          "name": "stdout",
          "text": [
            "18922\n"
          ]
        }
      ]
    },
    {
      "cell_type": "code",
      "metadata": {
        "id": "NizhPlODCN2t"
      },
      "source": [
        "#processing Train and dev sets to fit input/output of model\n",
        "X_train_seq = tokenizer.texts_to_sequences(X_train)\n",
        "X_train_padded = pad_sequences(X_train_seq, padding='post', maxlen=max_length)\n",
        "X_test_seq = tokenizer.texts_to_sequences(X_test)\n",
        "X_test_padded = pad_sequences(X_test_seq, padding='post', maxlen=max_length)\n",
        "label_tokenizer = Tokenizer()\n",
        "label_tokenizer.fit_on_texts(labels)\n",
        "label_index = label_tokenizer.word_index\n",
        "y_train_label_seq = np.array(label_tokenizer.texts_to_sequences(y_train))\n",
        "y_test_label_seq = np.array(label_tokenizer.texts_to_sequences(y_test))"
      ],
      "execution_count": 59,
      "outputs": []
    },
    {
      "cell_type": "code",
      "metadata": {
        "colab": {
          "base_uri": "https://localhost:8080/"
        },
        "id": "xVVTbgaVyrG9",
        "outputId": "e37af0eb-b1e2-496c-96da-f5143b1a2472"
      },
      "source": [
        "print(type(y_train_label_seq[0]))"
      ],
      "execution_count": 60,
      "outputs": [
        {
          "output_type": "stream",
          "name": "stdout",
          "text": [
            "<class 'numpy.ndarray'>\n"
          ]
        }
      ]
    },
    {
      "cell_type": "code",
      "metadata": {
        "colab": {
          "base_uri": "https://localhost:8080/"
        },
        "id": "twghQdRcCckZ",
        "outputId": "c21b2f9e-37a8-451d-bccb-6b76c274b706"
      },
      "source": [
        "#loading base model trained on a different dataset to implement transfer learning\n",
        "#submodel.h5 contains the model to be loaded\n",
        "model = tf.keras.models.load_model(\"submodel.h5\")\n",
        "model.summary()"
      ],
      "execution_count": 81,
      "outputs": [
        {
          "output_type": "stream",
          "name": "stdout",
          "text": [
            "Model: \"model\"\n",
            "_________________________________________________________________\n",
            "Layer (type)                 Output Shape              Param #   \n",
            "=================================================================\n",
            "embedding_2_input (InputLaye [(None, 128)]             0         \n",
            "_________________________________________________________________\n",
            "embedding_2 (Embedding)      (None, 128, 32)           960000    \n",
            "_________________________________________________________________\n",
            "bidirectional_2 (Bidirection (None, 64)                16640     \n",
            "_________________________________________________________________\n",
            "dense_6 (Dense)              (None, 64)                4160      \n",
            "_________________________________________________________________\n",
            "dense_7 (Dense)              (None, 32)                2080      \n",
            "=================================================================\n",
            "Total params: 982,880\n",
            "Trainable params: 982,880\n",
            "Non-trainable params: 0\n",
            "_________________________________________________________________\n"
          ]
        }
      ]
    },
    {
      "cell_type": "code",
      "metadata": {
        "id": "LRJArJzFFHj2"
      },
      "source": [
        "#setting all layers to be trainable on new dataset\n",
        "for i in range(5):\n",
        "  model.layers[i].trainable = True"
      ],
      "execution_count": 82,
      "outputs": []
    },
    {
      "cell_type": "code",
      "metadata": {
        "id": "e-yNRw9nFTYW"
      },
      "source": [
        "#add a new dense layer with 9 units to the the model\n",
        "new_layer = model.layers[4].output\n",
        "new_layer = tf.keras.layers.Dense(9, activation = 'softmax')(new_layer)\n",
        "#change name of layer to avoid clashing with any other layer names\n",
        "new_layer._name = new_layer._name + \"_8\"\n",
        "new_model = tf.keras.Model(inputs = model.input, outputs = new_layer)"
      ],
      "execution_count": 83,
      "outputs": []
    },
    {
      "cell_type": "code",
      "metadata": {
        "colab": {
          "base_uri": "https://localhost:8080/"
        },
        "id": "I6VeSdrKGimj",
        "outputId": "03eaf61e-d336-4193-8f5b-ac5536060f4b"
      },
      "source": [
        "new_model.summary()"
      ],
      "execution_count": 84,
      "outputs": [
        {
          "output_type": "stream",
          "name": "stdout",
          "text": [
            "Model: \"model_11\"\n",
            "_________________________________________________________________\n",
            "Layer (type)                 Output Shape              Param #   \n",
            "=================================================================\n",
            "embedding_2_input (InputLaye [(None, 128)]             0         \n",
            "_________________________________________________________________\n",
            "embedding_2 (Embedding)      (None, 128, 32)           960000    \n",
            "_________________________________________________________________\n",
            "bidirectional_2 (Bidirection (None, 64)                16640     \n",
            "_________________________________________________________________\n",
            "dense_6 (Dense)              (None, 64)                4160      \n",
            "_________________________________________________________________\n",
            "dense_7 (Dense)              (None, 32)                2080      \n",
            "_________________________________________________________________\n",
            "dense_11 (Dense)             (None, 9)                 297       \n",
            "=================================================================\n",
            "Total params: 983,177\n",
            "Trainable params: 983,177\n",
            "Non-trainable params: 0\n",
            "_________________________________________________________________\n"
          ]
        }
      ]
    },
    {
      "cell_type": "code",
      "metadata": {
        "id": "Q3hlXW1ZGlvT"
      },
      "source": [
        "new_model.compile(loss='sparse_categorical_crossentropy',optimizer='adam',metrics=['accuracy'])#compile new model"
      ],
      "execution_count": 85,
      "outputs": []
    },
    {
      "cell_type": "code",
      "metadata": {
        "colab": {
          "base_uri": "https://localhost:8080/"
        },
        "id": "X4U8qCDxGtHK",
        "outputId": "2a49d80d-53ed-4461-e527-7f240fb2ba75"
      },
      "source": [
        "#train new model on final dataset\n",
        "history = new_model.fit(X_train_padded, y_train_label_seq, epochs=30, validation_data=(X_test_padded, y_test_label_seq), verbose=2)"
      ],
      "execution_count": 86,
      "outputs": [
        {
          "output_type": "stream",
          "name": "stdout",
          "text": [
            "Epoch 1/30\n",
            "22/22 - 6s - loss: 1.4161 - accuracy: 0.6510 - val_loss: 1.3307 - val_accuracy: 0.6412\n",
            "Epoch 2/30\n",
            "22/22 - 2s - loss: 1.1880 - accuracy: 0.6730 - val_loss: 1.2392 - val_accuracy: 0.6412\n",
            "Epoch 3/30\n",
            "22/22 - 2s - loss: 1.1035 - accuracy: 0.6730 - val_loss: 1.1048 - val_accuracy: 0.6706\n",
            "Epoch 4/30\n",
            "22/22 - 2s - loss: 0.9569 - accuracy: 0.6966 - val_loss: 0.9354 - val_accuracy: 0.6765\n",
            "Epoch 5/30\n",
            "22/22 - 2s - loss: 0.8105 - accuracy: 0.7069 - val_loss: 0.8569 - val_accuracy: 0.7000\n",
            "Epoch 6/30\n",
            "22/22 - 2s - loss: 0.6972 - accuracy: 0.7408 - val_loss: 0.7247 - val_accuracy: 0.7235\n",
            "Epoch 7/30\n",
            "22/22 - 2s - loss: 0.6012 - accuracy: 0.7717 - val_loss: 0.6607 - val_accuracy: 0.7529\n",
            "Epoch 8/30\n",
            "22/22 - 2s - loss: 0.5651 - accuracy: 0.7791 - val_loss: 0.5978 - val_accuracy: 0.7294\n",
            "Epoch 9/30\n",
            "22/22 - 2s - loss: 0.4825 - accuracy: 0.8144 - val_loss: 0.5569 - val_accuracy: 0.7765\n",
            "Epoch 10/30\n",
            "22/22 - 2s - loss: 0.4325 - accuracy: 0.8365 - val_loss: 0.5184 - val_accuracy: 0.8000\n",
            "Epoch 11/30\n",
            "22/22 - 2s - loss: 0.3812 - accuracy: 0.8586 - val_loss: 0.4842 - val_accuracy: 0.8000\n",
            "Epoch 12/30\n",
            "22/22 - 2s - loss: 0.3465 - accuracy: 0.8675 - val_loss: 0.4638 - val_accuracy: 0.8471\n",
            "Epoch 13/30\n",
            "22/22 - 2s - loss: 0.2974 - accuracy: 0.8910 - val_loss: 0.4383 - val_accuracy: 0.8588\n",
            "Epoch 14/30\n",
            "22/22 - 2s - loss: 0.2728 - accuracy: 0.9028 - val_loss: 0.4202 - val_accuracy: 0.8765\n",
            "Epoch 15/30\n",
            "22/22 - 2s - loss: 0.2336 - accuracy: 0.9426 - val_loss: 0.3945 - val_accuracy: 0.9176\n",
            "Epoch 16/30\n",
            "22/22 - 2s - loss: 0.2014 - accuracy: 0.9558 - val_loss: 0.4031 - val_accuracy: 0.9000\n",
            "Epoch 17/30\n",
            "22/22 - 2s - loss: 0.1832 - accuracy: 0.9543 - val_loss: 0.3694 - val_accuracy: 0.9235\n",
            "Epoch 18/30\n",
            "22/22 - 2s - loss: 0.1673 - accuracy: 0.9573 - val_loss: 0.3536 - val_accuracy: 0.9118\n",
            "Epoch 19/30\n",
            "22/22 - 2s - loss: 0.1353 - accuracy: 0.9691 - val_loss: 0.3528 - val_accuracy: 0.9294\n",
            "Epoch 20/30\n",
            "22/22 - 2s - loss: 0.1191 - accuracy: 0.9705 - val_loss: 0.3633 - val_accuracy: 0.9118\n",
            "Epoch 21/30\n",
            "22/22 - 2s - loss: 0.1149 - accuracy: 0.9750 - val_loss: 0.3482 - val_accuracy: 0.9294\n",
            "Epoch 22/30\n",
            "22/22 - 2s - loss: 0.0989 - accuracy: 0.9764 - val_loss: 0.3769 - val_accuracy: 0.9176\n",
            "Epoch 23/30\n",
            "22/22 - 2s - loss: 0.1549 - accuracy: 0.9602 - val_loss: 0.4001 - val_accuracy: 0.8882\n",
            "Epoch 24/30\n",
            "22/22 - 2s - loss: 0.1122 - accuracy: 0.9691 - val_loss: 0.3552 - val_accuracy: 0.9235\n",
            "Epoch 25/30\n",
            "22/22 - 2s - loss: 0.0896 - accuracy: 0.9809 - val_loss: 0.3466 - val_accuracy: 0.9294\n",
            "Epoch 26/30\n",
            "22/22 - 2s - loss: 0.0755 - accuracy: 0.9809 - val_loss: 0.3564 - val_accuracy: 0.9176\n",
            "Epoch 27/30\n",
            "22/22 - 2s - loss: 0.0748 - accuracy: 0.9809 - val_loss: 0.3381 - val_accuracy: 0.9353\n",
            "Epoch 28/30\n",
            "22/22 - 2s - loss: 0.0699 - accuracy: 0.9794 - val_loss: 0.3478 - val_accuracy: 0.9353\n",
            "Epoch 29/30\n",
            "22/22 - 2s - loss: 0.0606 - accuracy: 0.9882 - val_loss: 0.3467 - val_accuracy: 0.9353\n",
            "Epoch 30/30\n",
            "22/22 - 2s - loss: 0.0629 - accuracy: 0.9838 - val_loss: 0.3439 - val_accuracy: 0.9353\n"
          ]
        }
      ]
    },
    {
      "cell_type": "code",
      "metadata": {
        "colab": {
          "base_uri": "https://localhost:8080/"
        },
        "id": "2eBGf17I2p_x",
        "outputId": "288f5a7e-fdbb-4c7e-e66a-825b4fb252f6"
      },
      "source": [
        "#predict on test set\n",
        "labels_pred = np.argmax(new_model.predict(X_test_padded),axis = -1) #np.argmax(model.predict(x), axis=-1)\n",
        "print(labels_pred[0:50])\n",
        "print(y_test_label_seq[0:50].reshape( 1, -1))"
      ],
      "execution_count": 87,
      "outputs": [
        {
          "output_type": "stream",
          "name": "stdout",
          "text": [
            "[1 1 1 6 1 1 8 3 7 7 1 6 1 3 8 5 4 1 2 1 4 1 4 1 8 3 2 1 1 3 1 1 2 1 1 5 1\n",
            " 4 1 6 1 1 2 1 1 1 3 1 1 1]\n",
            "[[1 1 1 6 1 1 8 3 7 7 1 6 1 3 8 8 4 1 2 1 4 1 4 1 8 3 1 1 2 3 1 1 2 1 1 4\n",
            "  1 3 1 1 1 1 2 1 1 1 3 1 1 1]]\n"
          ]
        }
      ]
    },
    {
      "cell_type": "code",
      "metadata": {
        "colab": {
          "base_uri": "https://localhost:8080/"
        },
        "id": "Qr46_OY12qmN",
        "outputId": "6fdc9657-1023-4fd9-8d52-f8b05b46bfa8"
      },
      "source": [
        "finalmodel = tf.keras.Model(inputs = new_model.input, outputs = new_model.get_layer(\"dense_11\").output)\n",
        "finalmodel.summary()"
      ],
      "execution_count": 89,
      "outputs": [
        {
          "output_type": "stream",
          "name": "stdout",
          "text": [
            "Model: \"model_12\"\n",
            "_________________________________________________________________\n",
            "Layer (type)                 Output Shape              Param #   \n",
            "=================================================================\n",
            "embedding_2_input (InputLaye [(None, 128)]             0         \n",
            "_________________________________________________________________\n",
            "embedding_2 (Embedding)      (None, 128, 32)           960000    \n",
            "_________________________________________________________________\n",
            "bidirectional_2 (Bidirection (None, 64)                16640     \n",
            "_________________________________________________________________\n",
            "dense_6 (Dense)              (None, 64)                4160      \n",
            "_________________________________________________________________\n",
            "dense_7 (Dense)              (None, 32)                2080      \n",
            "_________________________________________________________________\n",
            "dense_11 (Dense)             (None, 9)                 297       \n",
            "=================================================================\n",
            "Total params: 983,177\n",
            "Trainable params: 983,177\n",
            "Non-trainable params: 0\n",
            "_________________________________________________________________\n"
          ]
        }
      ]
    },
    {
      "cell_type": "code",
      "metadata": {
        "id": "vGaau60qgZD_"
      },
      "source": [
        "finalmodel.compile(loss='sparse_categorical_crossentropy',optimizer='adam',metrics=['accuracy'])"
      ],
      "execution_count": 90,
      "outputs": []
    },
    {
      "cell_type": "code",
      "metadata": {
        "id": "A6CdYV-bgcEI"
      },
      "source": [
        "finalmodel.save('finalmodel2.h5')#saving the final model to be used in anouther place"
      ],
      "execution_count": 91,
      "outputs": []
    },
    {
      "cell_type": "code",
      "metadata": {
        "colab": {
          "base_uri": "https://localhost:8080/",
          "height": 542
        },
        "id": "rZ6jRVaMhKyP",
        "outputId": "9c2300b2-073e-49a2-c115-0828dc241fd8"
      },
      "source": [
        "#plotting accuracy and loss history\n",
        "plot_history(history, string = 'accuracy')\n",
        "plot_history(history, string = 'loss')"
      ],
      "execution_count": 92,
      "outputs": [
        {
          "output_type": "display_data",
          "data": {
            "image/png": "[encoded data removed]",
            "text/plain": [
              "<Figure size 432x288 with 1 Axes>"
            ]
          },
          "metadata": {
            "needs_background": "light"
          }
        },
        {
          "output_type": "display_data",
          "data": {
            "image/png": "[encoded data removed]",
            "text/plain": [
              "<Figure size 432x288 with 1 Axes>"
            ]
          },
          "metadata": {
            "needs_background": "light"
          }
        }
      ]
    },
    {
      "cell_type": "code",
      "metadata": {
        "colab": {
          "base_uri": "https://localhost:8080/"
        },
        "id": "BQmZ0mqsFeeM",
        "outputId": "101e8114-de3d-4c11-8c1c-29bdb5b381fb"
      },
      "source": [
        "#final accuracy on dev set for final model\n",
        "from sklearn.metrics import accuracy_score\n",
        "print(\"Accuracy of final model: \")\n",
        "print(accuracy_score(labels_pred,y_test_label_seq))"
      ],
      "execution_count": 93,
      "outputs": [
        {
          "output_type": "stream",
          "name": "stdout",
          "text": [
            "Accuracy of final model: \n",
            "0.9352941176470588\n"
          ]
        }
      ]
    }
  ]
}