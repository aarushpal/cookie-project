{
  "nbformat": 4,
  "nbformat_minor": 0,
  "metadata": {
    "colab": {
      "name": "FinalModel2.ipynb",
      "provenance": [],
      "collapsed_sections": []
    },
    "kernelspec": {
      "name": "python3",
      "display_name": "Python 3"
    },
    "language_info": {
      "name": "python"
    }
  },
  "cells": [
    {
      "cell_type": "code",
      "metadata": {
        "id": "H72qapV7AKii"
      },
      "source": [
        "#importing modules\n",
        "import numpy as np \n",
        "import pandas as pd \n",
        "import nltk\n",
        "import tensorflow as tf\n",
        "import json\n",
        "import matplotlib.pyplot as plt\n",
        "from sklearn.model_selection import train_test_split"
      ],
      "execution_count": 1,
      "outputs": []
    },
    {
      "cell_type": "code",
      "metadata": {
        "colab": {
          "base_uri": "https://localhost:8080/"
        },
        "id": "Ix7hG_KPAiRS",
        "outputId": "6ed53fb8-2e79-4e08-933b-abafe6525980"
      },
      "source": [
        "#downloading stopwords\n",
        "# stopwords include \"the\", \"in\", \"a\", and so on\n",
        "nltk.download('stopwords')"
      ],
      "execution_count": 2,
      "outputs": [
        {
          "output_type": "stream",
          "name": "stdout",
          "text": [
            "[nltk_data] Downloading package stopwords to /root/nltk_data...\n",
            "[nltk_data]   Unzipping corpora/stopwords.zip.\n"
          ]
        },
        {
          "output_type": "execute_result",
          "data": {
            "text/plain": [
              "True"
            ]
          },
          "metadata": {},
          "execution_count": 2
        }
      ]
    },
    {
      "cell_type": "code",
      "metadata": {
        "id": "rvQv2YqeAtPY"
      },
      "source": [
        "from nltk.corpus import stopwords\n",
        "stopwords = set(stopwords.words('english'))"
      ],
      "execution_count": 3,
      "outputs": []
    },
    {
      "cell_type": "code",
      "metadata": {
        "colab": {
          "base_uri": "https://localhost:8080/",
          "height": 206
        },
        "id": "Jt_2tmjrAwem",
        "outputId": "82bdeef4-7e02-40a9-cf88-c47f782b3353"
      },
      "source": [
        "data = pd.read_csv('FinalDataEdit.csv')\n",
        "data.head()"
      ],
      "execution_count": 7,
      "outputs": [
        {
          "output_type": "execute_result",
          "data": {
            "text/html": [
              "<div>\n",
              "<style scoped>\n",
              "    .dataframe tbody tr th:only-of-type {\n",
              "        vertical-align: middle;\n",
              "    }\n",
              "\n",
              "    .dataframe tbody tr th {\n",
              "        vertical-align: top;\n",
              "    }\n",
              "\n",
              "    .dataframe thead th {\n",
              "        text-align: right;\n",
              "    }\n",
              "</style>\n",
              "<table border=\"1\" class=\"dataframe\">\n",
              "  <thead>\n",
              "    <tr style=\"text-align: right;\">\n",
              "      <th></th>\n",
              "      <th>Action_needed</th>\n",
              "      <th>Subcategory</th>\n",
              "      <th>Sentence</th>\n",
              "    </tr>\n",
              "  </thead>\n",
              "  <tbody>\n",
              "    <tr>\n",
              "      <th>0</th>\n",
              "      <td>1</td>\n",
              "      <td>None</td>\n",
              "      <td>Illuminate the None today.</td>\n",
              "    </tr>\n",
              "    <tr>\n",
              "      <th>1</th>\n",
              "      <td>1</td>\n",
              "      <td>None</td>\n",
              "      <td>Illuminate the None tomorrow.</td>\n",
              "    </tr>\n",
              "    <tr>\n",
              "      <th>2</th>\n",
              "      <td>1</td>\n",
              "      <td>None</td>\n",
              "      <td>Turn on the light in the None in 10 hours.</td>\n",
              "    </tr>\n",
              "    <tr>\n",
              "      <th>3</th>\n",
              "      <td>1</td>\n",
              "      <td>None</td>\n",
              "      <td>Turn on the light in the None in 1 day.</td>\n",
              "    </tr>\n",
              "    <tr>\n",
              "      <th>4</th>\n",
              "      <td>1</td>\n",
              "      <td>None</td>\n",
              "      <td>Illuminate the dining room today.</td>\n",
              "    </tr>\n",
              "  </tbody>\n",
              "</table>\n",
              "</div>"
            ],
            "text/plain": [
              "   Action_needed Subcategory                                    Sentence\n",
              "0              1        None                  Illuminate the None today.\n",
              "1              1        None               Illuminate the None tomorrow.\n",
              "2              1        None  Turn on the light in the None in 10 hours.\n",
              "3              1        None     Turn on the light in the None in 1 day.\n",
              "4              1        None           Illuminate the dining room today."
            ]
          },
          "metadata": {},
          "execution_count": 7
        }
      ]
    },
    {
      "cell_type": "code",
      "metadata": {
        "colab": {
          "base_uri": "https://localhost:8080/"
        },
        "id": "lcgiXFSFBcuK",
        "outputId": "af2fe775-03ff-4cee-d98c-228e1520fb3a"
      },
      "source": [
        "sentences = list(data.Sentence)\n",
        "print(len(sentences))"
      ],
      "execution_count": 8,
      "outputs": [
        {
          "output_type": "stream",
          "name": "stdout",
          "text": [
            "849\n"
          ]
        }
      ]
    },
    {
      "cell_type": "code",
      "metadata": {
        "colab": {
          "base_uri": "https://localhost:8080/"
        },
        "id": "zUtQRBqOxStC",
        "outputId": "ff8b23e9-0e48-469b-9cb0-04b00dfb3874"
      },
      "source": [
        "print(type(sentences[0]))"
      ],
      "execution_count": 9,
      "outputs": [
        {
          "output_type": "stream",
          "name": "stdout",
          "text": [
            "<class 'str'>\n"
          ]
        }
      ]
    },
    {
      "cell_type": "code",
      "metadata": {
        "colab": {
          "base_uri": "https://localhost:8080/"
        },
        "id": "lxdn_KveBxJZ",
        "outputId": "fd0da540-f6f3-4614-be6a-65a7aa23cd7c"
      },
      "source": [
        "labels = list(data.Subcategory)\n",
        "print(len(labels))"
      ],
      "execution_count": 10,
      "outputs": [
        {
          "output_type": "stream",
          "name": "stdout",
          "text": [
            "849\n"
          ]
        }
      ]
    },
    {
      "cell_type": "code",
      "metadata": {
        "colab": {
          "base_uri": "https://localhost:8080/"
        },
        "id": "hJyxiLN3z3C4",
        "outputId": "bc12220b-90f1-4c16-ea81-dc00a0971731"
      },
      "source": [
        "print(type(labels[0]))"
      ],
      "execution_count": 11,
      "outputs": [
        {
          "output_type": "stream",
          "name": "stdout",
          "text": [
            "<class 'str'>\n"
          ]
        }
      ]
    },
    {
      "cell_type": "code",
      "metadata": {
        "colab": {
          "base_uri": "https://localhost:8080/"
        },
        "id": "9waOIPzmuxo9",
        "outputId": "6e6f8287-f882-443e-f9d4-bb3b49b01b6e"
      },
      "source": [
        "data['Subcategory'].isnull().values.any()"
      ],
      "execution_count": 12,
      "outputs": [
        {
          "output_type": "execute_result",
          "data": {
            "text/plain": [
              "False"
            ]
          },
          "metadata": {},
          "execution_count": 12
        }
      ]
    },
    {
      "cell_type": "code",
      "metadata": {
        "colab": {
          "base_uri": "https://localhost:8080/"
        },
        "id": "4i5aNqBsDT3y",
        "outputId": "b01fe07a-7578-4cce-d368-960c1afe9b00"
      },
      "source": [
        "print(data.Subcategory.unique())"
      ],
      "execution_count": 13,
      "outputs": [
        {
          "output_type": "stream",
          "name": "stdout",
          "text": [
            "['None' 'Google' 'Weather' 'Time' 'Date' 'News' 'Launch' 'Whatsapp']\n"
          ]
        }
      ]
    },
    {
      "cell_type": "code",
      "metadata": {
        "id": "S7V0cO8qCT5_"
      },
      "source": [
        "#removing all stopwords from all sentences/ commands in the dataset\n",
        "for idx in range(len(sentences)):\n",
        "  sentence = sentences[idx]\n",
        "  for word in stopwords:\n",
        "    token = \" \" + word + \" \"\n",
        "    sentence = sentence.replace(token, \" \")\n",
        "    sentence = sentence.replace(\"  \", \" \")\n",
        "  sentences[idx] = sentence"
      ],
      "execution_count": 14,
      "outputs": []
    },
    {
      "cell_type": "code",
      "metadata": {
        "id": "6GJomtZ0B4Qc"
      },
      "source": [
        "from tensorflow.keras.preprocessing.text import Tokenizer\n",
        "from tensorflow.keras.preprocessing.sequence import pad_sequences\n",
        "\n",
        "vocab_size = 30000\n",
        "embedding_dim = 32\n",
        "max_length = 256"
      ],
      "execution_count": 15,
      "outputs": []
    },
    {
      "cell_type": "code",
      "metadata": {
        "id": "1-AKtENVB76Q"
      },
      "source": [
        "#defining function for plotting hisytory of loss and accuracy\n",
        "def plot_history(history, string):\n",
        "    plt.plot(history.history[string])\n",
        "    plt.plot(history.history['val_'+string])\n",
        "    plt.xlabel(\"Epochs\")\n",
        "    plt.ylabel(string)\n",
        "    plt.legend([string, 'validation_'+string])\n",
        "    plt.show()\n",
        "    "
      ],
      "execution_count": 16,
      "outputs": []
    },
    {
      "cell_type": "code",
      "metadata": {
        "id": "NW89CNCZB9QY"
      },
      "source": [
        "#splitting the dataset into train and dev/validation sets\n",
        "X_train, X_test, y_train, y_test = train_test_split(sentences, labels, train_size = 0.8, random_state = 1, shuffle = True)"
      ],
      "execution_count": 33,
      "outputs": []
    },
    {
      "cell_type": "code",
      "metadata": {
        "id": "9x57O_dAxjkh"
      },
      "source": [
        "#loading pre defined tokenizer from tokenizer.json\n",
        "from tensorflow.keras.preprocessing.text import tokenizer_from_json\n",
        "with open('tokenizer.json') as f:\n",
        "    tokens_json = json.load(f)\n",
        "    tokenizer = tokenizer_from_json(tokens_json)"
      ],
      "execution_count": 34,
      "outputs": []
    },
    {
      "cell_type": "code",
      "metadata": {
        "colab": {
          "base_uri": "https://localhost:8080/"
        },
        "id": "D-sSb4Ixxu10",
        "outputId": "1e61ea00-70b9-42a1-cd47-3a38c6529e49"
      },
      "source": [
        "word_index = tokenizer.word_index\n",
        "print(len(word_index))"
      ],
      "execution_count": 35,
      "outputs": [
        {
          "output_type": "stream",
          "name": "stdout",
          "text": [
            "18922\n"
          ]
        }
      ]
    },
    {
      "cell_type": "code",
      "metadata": {
        "id": "NizhPlODCN2t"
      },
      "source": [
        "#processing Train and dev sets to fit input/output of model\n",
        "X_train_seq = tokenizer.texts_to_sequences(X_train)\n",
        "X_train_padded = pad_sequences(X_train_seq, padding='post', maxlen=max_length)\n",
        "X_test_seq = tokenizer.texts_to_sequences(X_test)\n",
        "X_test_padded = pad_sequences(X_test_seq, padding='post', maxlen=max_length)\n",
        "label_tokenizer = Tokenizer()\n",
        "label_tokenizer.fit_on_texts(labels)\n",
        "label_index = label_tokenizer.word_index\n",
        "y_train_label_seq = np.array(label_tokenizer.texts_to_sequences(y_train))\n",
        "y_test_label_seq = np.array(label_tokenizer.texts_to_sequences(y_test))"
      ],
      "execution_count": 36,
      "outputs": []
    },
    {
      "cell_type": "code",
      "metadata": {
        "colab": {
          "base_uri": "https://localhost:8080/"
        },
        "id": "xVVTbgaVyrG9",
        "outputId": "c0c2a072-7ed9-405a-9910-6eae6843448d"
      },
      "source": [
        "print(type(y_train_label_seq[0]))"
      ],
      "execution_count": 37,
      "outputs": [
        {
          "output_type": "stream",
          "name": "stdout",
          "text": [
            "<class 'numpy.ndarray'>\n"
          ]
        }
      ]
    },
    {
      "cell_type": "code",
      "metadata": {
        "colab": {
          "base_uri": "https://localhost:8080/"
        },
        "id": "twghQdRcCckZ",
        "outputId": "1fe5eb53-ba53-4ad9-a582-8840ecf9ffce"
      },
      "source": [
        "#loading base model trained on a different dataset to implement transfer learning\n",
        "#submodel.h5 contains the model to be loaded\n",
        "model = tf.keras.models.load_model(\"submodel.h5\")\n",
        "model.summary()"
      ],
      "execution_count": 38,
      "outputs": [
        {
          "output_type": "stream",
          "name": "stdout",
          "text": [
            "Model: \"model\"\n",
            "_________________________________________________________________\n",
            "Layer (type)                 Output Shape              Param #   \n",
            "=================================================================\n",
            "embedding_input (InputLayer) [(None, 256)]             0         \n",
            "_________________________________________________________________\n",
            "embedding (Embedding)        (None, 256, 32)           960000    \n",
            "_________________________________________________________________\n",
            "bidirectional (Bidirectional (None, 64)                16640     \n",
            "_________________________________________________________________\n",
            "dense (Dense)                (None, 128)               8320      \n",
            "=================================================================\n",
            "Total params: 984,960\n",
            "Trainable params: 984,960\n",
            "Non-trainable params: 0\n",
            "_________________________________________________________________\n"
          ]
        }
      ]
    },
    {
      "cell_type": "code",
      "metadata": {
        "id": "LRJArJzFFHj2"
      },
      "source": [
        "#setting all layers to be trainable on new dataset\n",
        "for i in range(4):\n",
        "  model.layers[i].trainable = True"
      ],
      "execution_count": 39,
      "outputs": []
    },
    {
      "cell_type": "code",
      "metadata": {
        "id": "e-yNRw9nFTYW"
      },
      "source": [
        "#add a new dense layer with 9 units to the the model\n",
        "new_layer = model.layers[3].output\n",
        "new_layer = tf.keras.layers.Dense(9, activation = 'softmax')(new_layer)\n",
        "#change name of layer to avoid clashing with any other layer names\n",
        "new_layer._name = new_layer._name + \"_2\"\n",
        "new_model = tf.keras.Model(inputs = model.input, outputs = new_layer)"
      ],
      "execution_count": 40,
      "outputs": []
    },
    {
      "cell_type": "code",
      "metadata": {
        "colab": {
          "base_uri": "https://localhost:8080/"
        },
        "id": "I6VeSdrKGimj",
        "outputId": "567de54f-acd7-42e6-c7d2-479ad1048532"
      },
      "source": [
        "new_model.summary()"
      ],
      "execution_count": 41,
      "outputs": [
        {
          "output_type": "stream",
          "name": "stdout",
          "text": [
            "Model: \"model_3\"\n",
            "_________________________________________________________________\n",
            "Layer (type)                 Output Shape              Param #   \n",
            "=================================================================\n",
            "embedding_input (InputLayer) [(None, 256)]             0         \n",
            "_________________________________________________________________\n",
            "embedding (Embedding)        (None, 256, 32)           960000    \n",
            "_________________________________________________________________\n",
            "bidirectional (Bidirectional (None, 64)                16640     \n",
            "_________________________________________________________________\n",
            "dense (Dense)                (None, 128)               8320      \n",
            "_________________________________________________________________\n",
            "dense_3 (Dense)              (None, 9)                 1161      \n",
            "=================================================================\n",
            "Total params: 986,121\n",
            "Trainable params: 986,121\n",
            "Non-trainable params: 0\n",
            "_________________________________________________________________\n"
          ]
        }
      ]
    },
    {
      "cell_type": "code",
      "metadata": {
        "id": "Q3hlXW1ZGlvT"
      },
      "source": [
        "new_model.compile(loss='sparse_categorical_crossentropy',optimizer='adam',metrics=['accuracy'])#compile new model"
      ],
      "execution_count": 42,
      "outputs": []
    },
    {
      "cell_type": "code",
      "metadata": {
        "colab": {
          "base_uri": "https://localhost:8080/"
        },
        "id": "X4U8qCDxGtHK",
        "outputId": "c661a88a-0e2d-4cc8-8c8b-2dfc569b6416"
      },
      "source": [
        "#train new model on final dataset\n",
        "history = new_model.fit(X_train_padded, y_train_label_seq, epochs=30, validation_data=(X_test_padded, y_test_label_seq), verbose=2)"
      ],
      "execution_count": 43,
      "outputs": [
        {
          "output_type": "stream",
          "name": "stdout",
          "text": [
            "Epoch 1/30\n",
            "22/22 - 7s - loss: 1.6968 - accuracy: 0.5155 - val_loss: 1.4314 - val_accuracy: 0.6412\n",
            "Epoch 2/30\n",
            "22/22 - 3s - loss: 1.2423 - accuracy: 0.6730 - val_loss: 1.3116 - val_accuracy: 0.6412\n",
            "Epoch 3/30\n",
            "22/22 - 3s - loss: 1.1853 - accuracy: 0.6730 - val_loss: 1.2474 - val_accuracy: 0.6412\n",
            "Epoch 4/30\n",
            "22/22 - 3s - loss: 1.0889 - accuracy: 0.6730 - val_loss: 1.0375 - val_accuracy: 0.6412\n",
            "Epoch 5/30\n",
            "22/22 - 3s - loss: 0.9007 - accuracy: 0.6804 - val_loss: 0.8786 - val_accuracy: 0.6824\n",
            "Epoch 6/30\n",
            "22/22 - 3s - loss: 0.7722 - accuracy: 0.7202 - val_loss: 0.7712 - val_accuracy: 0.6882\n",
            "Epoch 7/30\n",
            "22/22 - 3s - loss: 0.6668 - accuracy: 0.7614 - val_loss: 0.6699 - val_accuracy: 0.7412\n",
            "Epoch 8/30\n",
            "22/22 - 3s - loss: 0.5491 - accuracy: 0.8027 - val_loss: 0.5719 - val_accuracy: 0.8118\n",
            "Epoch 9/30\n",
            "22/22 - 3s - loss: 0.4568 - accuracy: 0.8203 - val_loss: 0.5019 - val_accuracy: 0.8176\n",
            "Epoch 10/30\n",
            "22/22 - 4s - loss: 0.3663 - accuracy: 0.8733 - val_loss: 0.4400 - val_accuracy: 0.8118\n",
            "Epoch 11/30\n",
            "22/22 - 3s - loss: 0.2892 - accuracy: 0.9028 - val_loss: 0.4657 - val_accuracy: 0.8118\n",
            "Epoch 12/30\n",
            "22/22 - 4s - loss: 0.2644 - accuracy: 0.9028 - val_loss: 0.4001 - val_accuracy: 0.8824\n",
            "Epoch 13/30\n",
            "22/22 - 4s - loss: 0.2087 - accuracy: 0.9455 - val_loss: 0.4184 - val_accuracy: 0.8765\n",
            "Epoch 14/30\n",
            "22/22 - 3s - loss: 0.3095 - accuracy: 0.8837 - val_loss: 0.4408 - val_accuracy: 0.8294\n",
            "Epoch 15/30\n",
            "22/22 - 3s - loss: 0.2077 - accuracy: 0.9205 - val_loss: 0.4094 - val_accuracy: 0.8824\n",
            "Epoch 16/30\n",
            "22/22 - 3s - loss: 0.1622 - accuracy: 0.9617 - val_loss: 0.3726 - val_accuracy: 0.8941\n",
            "Epoch 17/30\n",
            "22/22 - 3s - loss: 0.1355 - accuracy: 0.9632 - val_loss: 0.3831 - val_accuracy: 0.9059\n",
            "Epoch 18/30\n",
            "22/22 - 3s - loss: 0.1139 - accuracy: 0.9794 - val_loss: 0.3659 - val_accuracy: 0.9000\n",
            "Epoch 19/30\n",
            "22/22 - 3s - loss: 0.1081 - accuracy: 0.9750 - val_loss: 0.3696 - val_accuracy: 0.9059\n",
            "Epoch 20/30\n",
            "22/22 - 3s - loss: 0.0922 - accuracy: 0.9809 - val_loss: 0.3559 - val_accuracy: 0.9059\n",
            "Epoch 21/30\n",
            "22/22 - 3s - loss: 0.0796 - accuracy: 0.9867 - val_loss: 0.3569 - val_accuracy: 0.9000\n",
            "Epoch 22/30\n",
            "22/22 - 4s - loss: 0.0719 - accuracy: 0.9867 - val_loss: 0.3824 - val_accuracy: 0.9000\n",
            "Epoch 23/30\n",
            "22/22 - 3s - loss: 0.0672 - accuracy: 0.9867 - val_loss: 0.3579 - val_accuracy: 0.9000\n",
            "Epoch 24/30\n",
            "22/22 - 4s - loss: 0.0641 - accuracy: 0.9853 - val_loss: 0.3838 - val_accuracy: 0.9176\n",
            "Epoch 25/30\n",
            "22/22 - 3s - loss: 0.0560 - accuracy: 0.9897 - val_loss: 0.3878 - val_accuracy: 0.9000\n",
            "Epoch 26/30\n",
            "22/22 - 3s - loss: 0.0649 - accuracy: 0.9853 - val_loss: 0.3792 - val_accuracy: 0.9000\n",
            "Epoch 27/30\n",
            "22/22 - 4s - loss: 0.0513 - accuracy: 0.9867 - val_loss: 0.3906 - val_accuracy: 0.9000\n",
            "Epoch 28/30\n",
            "22/22 - 3s - loss: 0.0489 - accuracy: 0.9838 - val_loss: 0.3931 - val_accuracy: 0.9118\n",
            "Epoch 29/30\n",
            "22/22 - 4s - loss: 0.0489 - accuracy: 0.9853 - val_loss: 0.4072 - val_accuracy: 0.9000\n",
            "Epoch 30/30\n",
            "22/22 - 3s - loss: 0.0622 - accuracy: 0.9794 - val_loss: 0.4096 - val_accuracy: 0.9118\n"
          ]
        }
      ]
    },
    {
      "cell_type": "code",
      "metadata": {
        "colab": {
          "base_uri": "https://localhost:8080/"
        },
        "id": "2eBGf17I2p_x",
        "outputId": "4d836f9a-5e38-4094-f536-960489857cf1"
      },
      "source": [
        "#predict on test set\n",
        "labels_pred = np.argmax(new_model.predict(X_test_padded),axis = -1) #np.argmax(model.predict(x), axis=-1)\n",
        "print(labels_pred[0:50])\n",
        "print(y_test_label_seq[0:50].reshape( 1, -1))"
      ],
      "execution_count": 44,
      "outputs": [
        {
          "output_type": "stream",
          "name": "stdout",
          "text": [
            "[1 1 1 6 1 1 8 1 7 7 1 6 1 3 8 6 4 1 2 1 4 1 4 1 8 3 5 1 1 3 1 1 2 1 1 4 1\n",
            " 7 1 6 1 1 2 1 1 1 3 1 1 1]\n",
            "[[1 1 1 6 1 1 8 3 7 7 1 6 1 3 8 8 4 1 2 1 4 1 4 1 8 3 1 1 2 3 1 1 2 1 1 4\n",
            "  1 3 1 1 1 1 2 1 1 1 3 1 1 1]]\n"
          ]
        }
      ]
    },
    {
      "cell_type": "code",
      "metadata": {
        "colab": {
          "base_uri": "https://localhost:8080/"
        },
        "id": "Qr46_OY12qmN",
        "outputId": "e5e5e986-7148-4686-f8f0-ec5a874ff6c0"
      },
      "source": [
        "finalmodel = tf.keras.Model(inputs = new_model.input, outputs = new_model.get_layer(\"dense_3\").output)\n",
        "finalmodel.summary()"
      ],
      "execution_count": 48,
      "outputs": [
        {
          "output_type": "stream",
          "name": "stdout",
          "text": [
            "Model: \"model_4\"\n",
            "_________________________________________________________________\n",
            "Layer (type)                 Output Shape              Param #   \n",
            "=================================================================\n",
            "embedding_input (InputLayer) [(None, 256)]             0         \n",
            "_________________________________________________________________\n",
            "embedding (Embedding)        (None, 256, 32)           960000    \n",
            "_________________________________________________________________\n",
            "bidirectional (Bidirectional (None, 64)                16640     \n",
            "_________________________________________________________________\n",
            "dense (Dense)                (None, 128)               8320      \n",
            "_________________________________________________________________\n",
            "dense_3 (Dense)              (None, 9)                 1161      \n",
            "=================================================================\n",
            "Total params: 986,121\n",
            "Trainable params: 986,121\n",
            "Non-trainable params: 0\n",
            "_________________________________________________________________\n"
          ]
        }
      ]
    },
    {
      "cell_type": "code",
      "metadata": {
        "id": "vGaau60qgZD_"
      },
      "source": [
        "finalmodel.compile(loss='sparse_categorical_crossentropy',optimizer='adam',metrics=['accuracy'])"
      ],
      "execution_count": 49,
      "outputs": []
    },
    {
      "cell_type": "code",
      "metadata": {
        "id": "A6CdYV-bgcEI"
      },
      "source": [
        "finalmodel.save('finalmodel2.h5')#saving the final model to be used in anouther place"
      ],
      "execution_count": 50,
      "outputs": []
    },
    {
      "cell_type": "code",
      "metadata": {
        "colab": {
          "base_uri": "https://localhost:8080/",
          "height": 542
        },
        "id": "rZ6jRVaMhKyP",
        "outputId": "ccaddd8e-c2ca-4fd0-aa84-53ae46becbce"
      },
      "source": [
        "#plotting accuracy and loss history\n",
        "plot_history(history, string = 'accuracy')\n",
        "plot_history(history, string = 'loss')"
      ],
      "execution_count": 53,
      "outputs": [
        {
          "output_type": "display_data",
          "data": {
            "image/png": "[encoded data removed]",
            "text/plain": [
              "<Figure size 432x288 with 1 Axes>"
            ]
          },
          "metadata": {
            "needs_background": "light"
          }
        },
        {
          "output_type": "display_data",
          "data": {
            "image/png": "[encoded data removed]",
            "text/plain": [
              "<Figure size 432x288 with 1 Axes>"
            ]
          },
          "metadata": {
            "needs_background": "light"
          }
        }
      ]
    },
    {
      "cell_type": "code",
      "metadata": {
        "colab": {
          "base_uri": "https://localhost:8080/"
        },
        "id": "BQmZ0mqsFeeM",
        "outputId": "5a40f8be-15b2-4fdd-cb1a-815b449a4a0e"
      },
      "source": [
        "#final accuracy on dev set for final model\n",
        "from sklearn.metrics import accuracy_score\n",
        "print(\"Accuracy of final model: \")\n",
        "print(accuracy_score(labels_pred,y_test_label_seq))"
      ],
      "execution_count": 55,
      "outputs": [
        {
          "output_type": "stream",
          "name": "stdout",
          "text": [
            "Accuracy of final model: \n",
            "0.9117647058823529\n"
          ]
        }
      ]
    }
  ]
}